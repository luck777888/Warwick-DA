{
 "cells": [
  {
   "cell_type": "code",
   "execution_count": 12,
   "metadata": {},
   "outputs": [],
   "source": [
    "import numpy as np\n",
    "import matplotlib.pyplot as plt\n",
    "from sklearn.model_selection import GridSearchCV\n",
    "from numpy.random import randn\n",
    "from sklearn.model_selection import StratifiedKFold\n",
    "from sklearn.neighbors import KNeighborsClassifier\n",
    "from sklearn.metrics import accuracy_score\n",
    "from sklearn.metrics import roc_curve, roc_auc_score, auc, precision_recall_curve, average_precision_score\n",
    "from sklearn import preprocessing\n",
    "from sklearn.preprocessing import Normalizer\n",
    "from sklearn.preprocessing import MinMaxScaler\n",
    "from sklearn.preprocessing import StandardScaler"
   ]
  },
  {
   "cell_type": "markdown",
   "metadata": {},
   "source": [
    "### Question No. 1: (Showing data) [5 Marks]\n",
    "Load the training and test data files and answer the following questions:\n",
    "\n",
    "i. How many training and test examples are there? You can use np.loadtxt for this purpose.\n",
    "Show some objects of each class using plt.matshow\n",
    "#### Answer i:\n",
    "* the number of train set is 3000 and test set is 5000.\n",
    "\n",
    "ii. How many positive and negative examples are there in the training dataset?\n",
    "#### Answer ii:\n",
    "* the number of positive examples is 1179 and negative examples is 1821 in the training dataset.\n",
    "\n",
    "iii. Which performance metric (accuracy, AUC-ROC and AUC-PR) should be used? Give your \n",
    "reasoning. \n",
    "#### Answer iii:\n",
    "*   AUC-ROC should be used as performance metric in this training set. For accuracy, the data label set should be evenly distributed while AUC-PR is used when the difference between the positive and negative sample sizes is very large.  The number of positive and negative examples in this data set are both large but are not evenly, so it should use VUC-ROC metric.\n",
    "\n",
    "\n",
    "iv. What is the expected accuracy of a random classifier (one that generates random labels for a \n",
    "given example) for this problem over the training and test datasets? Demonstrate why this \n",
    "would be the case.\n",
    "#### Answer iv:\n",
    "* The expected accuracy of a random classifier is 0.5.The probabilities of the positive and negative categories produced by the random classifier are equal.\n",
    "\n",
    "v. What is the AUC-ROC and AUC-PR of a random classifier for this problem over the training \n",
    "and test datasets? Demonstrate why this would be the case.\n",
    "#### Answer v:\n",
    "* In the code below, I built a random classifier and used 'sklearn.metrics' to calculate AUC-ROC and AUC-PR.\n",
    "\n",
    "|AUC-ROC|AUC-PR|\n",
    "|:-------|------:|\n",
    "|0.4960| 0.5349|"
   ]
  },
  {
   "cell_type": "code",
   "execution_count": 13,
   "metadata": {},
   "outputs": [
    {
     "name": "stdout",
     "output_type": "stream",
     "text": [
      "the number of train set is 3000\n",
      "the number of test set is 5000\n"
     ]
    }
   ],
   "source": [
    "# i the number of training and text examples\n",
    "Xtrain = np.loadtxt('Xtrain.csv')\n",
    "Ytrain = np.loadtxt('Ytrain.csv',dtype ='int')\n",
    "Xtest = np.loadtxt('Xtest.csv')\n",
    "print('the number of train set is',len(Xtrain))\n",
    "print('the number of test set is',len(Xtest))"
   ]
  },
  {
   "cell_type": "code",
   "execution_count": 14,
   "metadata": {},
   "outputs": [
    {
     "data": {
      "text/plain": [
       "<matplotlib.image.AxesImage at 0x200e6030a90>"
      ]
     },
     "execution_count": 14,
     "metadata": {},
     "output_type": "execute_result"
    },
    {
     "data": {
      "image/png": "[encoded data removed]",
      "text/plain": [
       "<Figure size 288x288 with 1 Axes>"
      ]
     },
     "metadata": {
      "needs_background": "light"
     },
     "output_type": "display_data"
    },
    {
     "data": {
      "image/png": "[encoded data removed]",
      "text/plain": [
       "<Figure size 288x288 with 1 Axes>"
      ]
     },
     "metadata": {
      "needs_background": "light"
     },
     "output_type": "display_data"
    }
   ],
   "source": [
    "# i show some objects\n",
    "\n",
    "plt.matshow(Xtrain[0].reshape((28,-1)))\n",
    "plt.matshow(Xtrain[1].reshape((28,-1)))"
   ]
  },
  {
   "cell_type": "code",
   "execution_count": 15,
   "metadata": {},
   "outputs": [
    {
     "name": "stdout",
     "output_type": "stream",
     "text": [
      "the number of positive example is 1179\n",
      "the number of negative example is 1821\n"
     ]
    }
   ],
   "source": [
    "# ii positive and negative examples\n",
    "positive = 0\n",
    "negative = 0\n",
    "for i in range(len(Ytrain)):\n",
    "    if Ytrain[i] == 1:\n",
    "        positive += 1\n",
    "    else:\n",
    "        negative += 1\n",
    "print('the number of positive example is', positive)\n",
    "print('the number of negative example is', negative)"
   ]
  },
  {
   "cell_type": "code",
   "execution_count": 17,
   "metadata": {},
   "outputs": [],
   "source": [
    "\n",
    "def plotROC(y,z,pstr = ''):\n",
    "    fpr,tpr,tt = roc_curve(y, z)\n",
    "    roc_auc = auc(fpr, tpr)\n",
    "    #plt.figure()\n",
    "    #plt.plot(tt,fpr,'o-',tt,tpr,'x-');plt.xlabel('threshold');plt.ylabel('Percentage');plt.legend(['FPR','TPR']);plt.grid();plt.title(pstr)\n",
    "    #plt.figure()\n",
    "    #plt.plot(fpr,tpr,'o-');plt.xlabel('FPR');plt.ylabel('TPR');plt.grid();plt.title('ROC '+pstr+' AUC: '+str(roc_auc))\n",
    "    return roc_auc\n",
    "\n",
    "def plotPRC(y,z,pstr = ''):\n",
    "    P,R,tt = precision_recall_curve(y, z)\n",
    "    pr_auc = auc(R, P)\n",
    "    #plt.figure()\n",
    "    #plt.plot(tt,R[:-1],'o-',tt,P[:-1],'x-');plt.xlabel('threshold');plt.ylabel('Percentage');plt.legend(['Recall','Precision']);plt.grid();plt.title(pstr)\n",
    "    #plt.figure()\n",
    "    #plt.plot(R,P,'o-');plt.xlabel('Recall');plt.ylabel('Precision');plt.grid();plt.title('PRC '+pstr+' AUC: '+str(pr_auc))\n",
    "    return pr_auc"
   ]
  },
  {
   "cell_type": "code",
   "execution_count": 18,
   "metadata": {},
   "outputs": [],
   "source": [
    "# v This classifier will generate a random score of any example given as input\n",
    "random_label = np.random.randint(0,2,len(Xtrain))*2-1"
   ]
  },
  {
   "cell_type": "code",
   "execution_count": 19,
   "metadata": {},
   "outputs": [
    {
     "name": "stdout",
     "output_type": "stream",
     "text": [
      "AUC ROC: 0.49598897789850666\n",
      "AUC PRC: 0.5349010785475112\n",
      "knn accuracy: 0.5006666666666667\n"
     ]
    }
   ],
   "source": [
    "roc_tr = plotROC(Ytrain,random_label,'Training')\n",
    "pr_tr = plotPRC(Ytrain,random_label,'Training')\n",
    "acc = accuracy_score(Ytrain,random_label)\n",
    "print('AUC ROC:',roc_tr)\n",
    "print('AUC PRC:',pr_tr)\n",
    "print('random accuracy:',acc)"
   ]
  },
  {
   "cell_type": "markdown",
   "metadata": {},
   "source": [
    "### Question No. 2: (Nearest Neighbor Classifier) [5 Marks]\n",
    "Perform 5-fold stratified cross-validation (https://scikit-learn.org/stable/modules/generated/sklearn.model_selection.StratifiedKFold.html) over the training\n",
    "dataset using the k = 1 nearest neighbour classifier and answer the following questions:\n",
    "\n",
    "i. What is the prediction accuracy, AUC-ROC and AUC-PR for each fold using this classifier?\n",
    "Show code to demonstrate the results.\n",
    "#### Answer i :\n",
    "* k = 1 nearest neighbour classifier\n",
    "* Fold-Wise AUC ROC= [0.7687717668911074, 0.7542838517414788, 0.7445520581113801, 0.7390575526168746, 0.7249064765022212]\n",
    "* Fold-Wise AUC PRC= [0.7720045104630118, 0.7597063080730261, 0.7501921830138002, 0.7447056679424093, 0.7309879354697664]\n",
    "* Fold-Wise accuracy= [0.7737104825291181, 0.7633333333333333, 0.7533333333333333, 0.7466666666666667, 0.7362270450751253]\n",
    "ii. What is the mean and standard deviation of each performance metric (accuracy, AUC-ROC and AUC-PR)across all the folds for this classifier? Show code to demonstrate the results.\n",
    "#### Answer ii :\n",
    "* AUC ROC: Mean is 0.746314, Stdev is 0.014710\n",
    "* AUC PRC: Mean is 0.751519, Stdev is 0.013830\n",
    "* ACCURACY: Mean is 0.754654, Stdev is 0.012989\n",
    "\n",
    "iii. What is the impact of various forms of pre-processing (https://scikit-learn.org/stable/modules/preprocessing.html ) on the cross-validation performance?\n",
    "Show code to demonstrate the results.\n",
    "#### Answer iii :\n",
    "* The preprocessing of StandardScaler and normalizer can slightly improve the accuracy of this classifier.\n",
    "\n",
    "iv. Use 5-fold cross-validation over training data to calculate the optimal value of k for the \n",
    "k-Nearest neighbour classifier. What is the optimal value of k and what are the cross-validation accuracy, AUC-ROC and AUC-PR? Show code to demonstrate the results\n",
    "#### Answer iv :\n",
    "* the optimal value of k is 6.\n",
    "* AUC ROC: Mean is 0.834109, Stdev is 0.016166\n",
    "* AUC PRC: Mean is 0.752320, Stdev is 0.029342\n",
    "* ACC: Mean is 0.750012, Stdev is 0.014431"
   ]
  },
  {
   "cell_type": "code",
   "execution_count": 116,
   "metadata": {},
   "outputs": [],
   "source": [
    "def clf_performance(Xtrain,Ytrain,clf):\n",
    "    \n",
    "    skf = StratifiedKFold(n_splits=5,shuffle = True)\n",
    "    A = []\n",
    "    B = []\n",
    "    C = []\n",
    "    for i,(tr_idx, v_idx) in enumerate(skf.split(Xtrain, Ytrain)):\n",
    "        Xtr, Xv = Xtrain[tr_idx], Xtrain[v_idx]\n",
    "        ytr, yv = Ytrain[tr_idx], Ytrain[v_idx]\n",
    "        clf.fit(Xtr,ytr)\n",
    "        clf_predict = clf.predict(Xv)\n",
    "        try:\n",
    "            clf_z = clf.predict_proba(Xv)[:,1]\n",
    "        except Exception as e:\n",
    "            clf_z = clf.decision_function(Xv)\n",
    "        clf_roc_auc = plotROC(yv,clf_z,pstr = 'Validation Fold: '+str(i))\n",
    "        clf_pr_auc = plotPRC(yv,clf_z,pstr = 'Validation Fold: '+str(i))\n",
    "        clf_acc = accuracy_score(yv,clf_predict)\n",
    "        A.append(clf_roc_auc)\n",
    "        B.append(clf_pr_auc)\n",
    "        C.append(clf_acc)\n",
    "    print('Fold-Wise AUC ROC=',A)\n",
    "    print('Fold-Wise AUC PRC=',B)\n",
    "    print('Fold-Wise accuracy=',C)    \n",
    "    print(\"AUC ROC: Mean is %f, Stdev is %f\"%(np.mean(A),np.std(A)))\n",
    "    print(\"AUC PRC: Mean is %f, Stdev is %f\"%(np.mean(B),np.std(B)))\n",
    "    print(\"ACC: Mean is %f, Stdev is %f\"%(np.mean(C),np.std(C)))\n",
    "    return"
   ]
  },
  {
   "cell_type": "code",
   "execution_count": 21,
   "metadata": {},
   "outputs": [
    {
     "name": "stdout",
     "output_type": "stream",
     "text": [
      "Fold-Wise AUC ROC= [0.7687717668911074, 0.7542838517414788, 0.7445520581113801, 0.7390575526168746, 0.7249064765022212]\n",
      "Fold-Wise AUC PRC= [0.7720045104630118, 0.7597063080730261, 0.7501921830138002, 0.7447056679424093, 0.7309879354697664]\n",
      "Fold-Wise accuracy= [0.7737104825291181, 0.7633333333333333, 0.7533333333333333, 0.7466666666666667, 0.7362270450751253]\n",
      "AUC ROC: Mean is 0.746314, Stdev is 0.014710\n",
      "AUC PRC: Mean is 0.751519, Stdev is 0.013830\n",
      "AUC ACC: Mean is 0.754654, Stdev is 0.012989\n"
     ]
    }
   ],
   "source": [
    "# i / ii\n",
    "knn1 = KNeighborsClassifier(n_neighbors=1)\n",
    "clf_performance(Xtrain,Ytrain,knn1)"
   ]
  },
  {
   "cell_type": "code",
   "execution_count": 22,
   "metadata": {},
   "outputs": [
    {
     "name": "stdout",
     "output_type": "stream",
     "text": [
      "MinMaxScaler：\n",
      "Fold-Wise AUC ROC= [0.7363710239145577, 0.7447848761408082, 0.7375675172285341, 0.7274399329484075, 0.7505728314238952]\n",
      "Fold-Wise AUC PRC= [0.7422843988832172, 0.7498151608167624, 0.7435232008891359, 0.7337073817158563, 0.7544825928853053]\n",
      "Fold-Wise accuracy= [0.7470881863560732, 0.75, 0.7466666666666667, 0.7316666666666667, 0.7545909849749582]\n",
      "AUC ROC: Mean is 0.739347, Stdev is 0.007866\n",
      "AUC PRC: Mean is 0.744763, Stdev is 0.007070\n",
      "AUC ACC: Mean is 0.746003, Stdev is 0.007706\n",
      "Normalizer: \n",
      "Fold-Wise AUC ROC= [0.7550731367541211, 0.7733516483516485, 0.7618504376978953, 0.7295585770162041, 0.7548281505728313]\n",
      "Fold-Wise AUC PRC= [0.7586760238520824, 0.7767563081009297, 0.7651012505554498, 0.7356757931334202, 0.7583402652780198]\n",
      "Fold-Wise accuracy= [0.757071547420965, 0.7783333333333333, 0.7616666666666667, 0.7333333333333333, 0.7579298831385642]\n",
      "AUC ROC: Mean is 0.754932, Stdev is 0.014360\n",
      "AUC PRC: Mean is 0.758910, Stdev is 0.013394\n",
      "AUC ACC: Mean is 0.757667, Stdev is 0.014392\n",
      "StandardScaler\n",
      "Fold-Wise AUC ROC= [0.751584629672626, 0.7174753212888806, 0.7454134848202645, 0.7710001862544235, 0.7744096329202712]\n",
      "Fold-Wise AUC PRC= [0.7554809295931286, 0.7243188263893579, 0.7505375672451438, 0.7760734463276837, 0.7804671535854714]\n",
      "Fold-Wise accuracy= [0.7537437603993344, 0.725, 0.7516666666666667, 0.78, 0.7863105175292153]\n",
      "AUC ROC: Mean is 0.751977, Stdev is 0.020488\n",
      "AUC PRC: Mean is 0.757376, Stdev is 0.020129\n",
      "AUC ACC: Mean is 0.759344, Stdev is 0.022017\n"
     ]
    }
   ],
   "source": [
    "# iii preprocessing\n",
    "\n",
    "# MinMaxScaler\n",
    "print('MinMaxScaler：')\n",
    "min_max_scaler = preprocessing.MinMaxScaler()\n",
    "Xtrain_minmax = min_max_scaler.fit_transform(Xtrain)\n",
    "clf_performance(Xtrain_minmax,Ytrain,knn1)\n",
    "# normalizer\n",
    "print('Normalizer: ')\n",
    "Xtrain_normalizer = preprocessing.Normalizer().fit_transform(Xtrain)\n",
    "clf_performance(Xtrain_normalizer,Ytrain,knn1)\n",
    "# StandardScaler\n",
    "print('StandardScaler')\n",
    "Xtrain_standardscaler = preprocessing.StandardScaler().fit_transform(Xtrain)\n",
    "clf_performance(Xtrain_standardscaler,Ytrain,knn1)"
   ]
  },
  {
   "cell_type": "code",
   "execution_count": 119,
   "metadata": {},
   "outputs": [
    {
     "name": "stdout",
     "output_type": "stream",
     "text": [
      "{'n_neighbors': 6}\n"
     ]
    }
   ],
   "source": [
    "# iv search for the optimal value of k\n",
    "k=[]\n",
    "for i in range(21):\n",
    "    k.append(i+1)\n",
    "param_knn1 = {'n_neighbors':k}\n",
    "skf = StratifiedKFold(n_splits=5,shuffle = True)\n",
    "best_g = GridSearchCV(KNeighborsClassifier(),param_knn1,cv=skf,n_jobs = -1)\n",
    "best_g.fit(Xtrain_normalizer,Ytrain)\n",
    "print(best_g.best_params_)"
   ]
  },
  {
   "cell_type": "code",
   "execution_count": 120,
   "metadata": {},
   "outputs": [
    {
     "name": "stdout",
     "output_type": "stream",
     "text": [
      "Fold-Wise AUC ROC= [0.8206292082656141, 0.8191062115850252, 0.8547040882845967, 0.8231397839448686, 0.8529635258358663]\n",
      "Fold-Wise AUC PRC= [0.7577910751875223, 0.7091453361100684, 0.7770679004376406, 0.7295219908885815, 0.7880760073992312]\n",
      "Fold-Wise accuracy= [0.7287853577371048, 0.74, 0.7666666666666667, 0.75, 0.7646076794657763]\n",
      "AUC ROC: Mean is 0.834109, Stdev is 0.016166\n",
      "AUC PRC: Mean is 0.752320, Stdev is 0.029342\n",
      "ACC: Mean is 0.750012, Stdev is 0.014431\n"
     ]
    }
   ],
   "source": [
    "# compute performance metrics of KNN with optimal k\n",
    "knn10 = KNeighborsClassifier(n_neighbors=6)\n",
    "clf_performance(Xtrain,Ytrain,knn10)"
   ]
  },
  {
   "cell_type": "markdown",
   "metadata": {},
   "source": [
    "### Question No. 3: [5 Marks]\n",
    "Use 5-fold stratified cross-validation over training data to choose an optimal classifier between: k-nearest neighbour, Perceptron, Naïve Bayes Classifier, Logistic regression, Linear SVM and Kernelized SVM. Be sure to tune the hyperparameters of each classifier type (k for k-nearest neighbour, C and kernel type and parameters for SVM and so on). Report the cross validation results (mean and standard deviation of accuracy, AUC-ROC and AUC-PR across fold) of your best model. You may look into grid search as well as ways of preprocessing data. Show code to demonstrate the results. Also show the comparison of these classifiers using a single table."
   ]
  },
  {
   "cell_type": "markdown",
   "metadata": {},
   "source": [
    "#### Answer:\n",
    "\n",
    "Best model of each classifier:\n",
    "\n",
    "* KNN(preprocessing: normalizer):  KNeighborsClassifier(n_neighbors=12,weights = 'distance',p=1)\n",
    "\n",
    "* Perceptron (preprocessing: normalizer):Perceptron(alpha=0.0001, fit_intercept= True, max_iter=100, penalty= 'l1', tol= 0.01)\n",
    "\n",
    "* Naïve Bayes Classifier (no preprocessing): MultinomialNB(alpha=16, fit_prior= True)\n",
    "\n",
    "* LogisticRegression (preprocessing: MinMaxScaler):LogisticRegression(C= 0.1, penalty= 'l2', solver= 'newton-cg')\n",
    "\n",
    "* Linear SVM (preprocessing: normalizer): LinearSVC(C= 1, dual= False, penalty= 'l2',class_weight='balanced')\n",
    "\n",
    "* Kernelized SVM (preprocessing:normalizer):SVC( kernel= 'rbf',class_weight='balanced',gamma = 7)\n",
    "\n",
    " cross validation results table:\n",
    " \n",
    "|Classifier|AUC-ROC Mean|AUC-ROC Stdev|AUC-PR Mean|AUC-PR Stdev|Accuracy Mean|Accuracy Stdev|\n",
    "|:-------:|:-------:|:-------:|:-------:|:-------:|:-------:|:------:|\n",
    "|KNN|0.870323|0.012194|0.795426|0.023254|0.785661|0.013430|\n",
    "|Perceptron|0.785537|0.010554|0.628048|0.015820|0.609306|0.062258|\n",
    "|NaïveBayes|0.711962|0.025271|0.702713|0.018186|0.670651|0.024899|\n",
    "|LogisticRe|0.796095|0.016299|0.644928|0.015895|0.710992|0.015142|\n",
    "|LinearSVM|0.796323|0.012874|0.649459|0.020226|0.722335|0.016951|\n",
    "|KernelizedSVM|0.877939|0.009090|0.784787|0.017470|0.794998|0.014452|\n",
    "\n",
    "\n",
    "For this data set, KernelizedSVM classifier performs best."
   ]
  },
  {
   "cell_type": "code",
   "execution_count": 96,
   "metadata": {},
   "outputs": [
    {
     "name": "stdout",
     "output_type": "stream",
     "text": [
      "{'n_neighbors': 12, 'p': 1, 'weights': 'distance'}\n"
     ]
    }
   ],
   "source": [
    "#train knn classifier (no preprocessing)\n",
    "param_knn = {'n_neighbors':[3,6,9,12],'weights':['uniform','distance'],'p':[1,2]}\n",
    "best_g = GridSearchCV(KNeighborsClassifier(),param_knn,cv=5,scoring = 'roc_auc',n_jobs = -1)\n",
    "best_g.fit(Xtrain,Ytrain)\n",
    "print(best_g.best_params_)"
   ]
  },
  {
   "cell_type": "code",
   "execution_count": 97,
   "metadata": {},
   "outputs": [
    {
     "name": "stdout",
     "output_type": "stream",
     "text": [
      "{'n_neighbors': 12, 'p': 1, 'weights': 'distance'}\n"
     ]
    }
   ],
   "source": [
    "#train knn classifier (preprocessing: normalizer)\n",
    "param_knn_norm = {'n_neighbors':[3,6,9,12],'weights':['uniform','distance'],'p':[1,2]}\n",
    "best_g = GridSearchCV(KNeighborsClassifier(),param_knn_norm,cv=5,scoring = 'roc_auc',n_jobs = -1)\n",
    "best_g.fit(Xtrain_normalizer,Ytrain)\n",
    "print(best_g.best_params_)"
   ]
  },
  {
   "cell_type": "code",
   "execution_count": 98,
   "metadata": {},
   "outputs": [
    {
     "name": "stdout",
     "output_type": "stream",
     "text": [
      "{'n_neighbors': 12, 'p': 1, 'weights': 'distance'}\n"
     ]
    }
   ],
   "source": [
    "#train knn classifier(preprocessing: standardscaler)\n",
    "param_knn_standard= {'n_neighbors':[3,6,9,12],'weights':['uniform','distance'],'p':[1,2]}\n",
    "best_g = GridSearchCV(KNeighborsClassifier(),param_knn_standard,scoring = 'roc_auc',cv=5,n_jobs = -1)\n",
    "best_g.fit(Xtrain_standardscaler,Ytrain)\n",
    "print(best_g.best_params_)"
   ]
  },
  {
   "cell_type": "code",
   "execution_count": 99,
   "metadata": {},
   "outputs": [
    {
     "name": "stdout",
     "output_type": "stream",
     "text": [
      "{'n_neighbors': 12, 'p': 1, 'weights': 'distance'}\n"
     ]
    }
   ],
   "source": [
    "#knn (preprocessing: MinMaxScaler)\n",
    "param_knn_minmax = {'n_neighbors':[3,6,9,12],'weights':['uniform','distance'],'p':[1,2]}\n",
    "best_g = GridSearchCV(KNeighborsClassifier(),param_knn_minmax,scoring = 'roc_auc',cv=5,n_jobs = -1)\n",
    "best_g.fit(Xtrain_minmax,Ytrain)\n",
    "print(best_g.best_params_)"
   ]
  },
  {
   "cell_type": "code",
   "execution_count": 100,
   "metadata": {},
   "outputs": [
    {
     "name": "stdout",
     "output_type": "stream",
     "text": [
      "knn (preprocessing: normalizer):\n",
      "Fold-Wise AUC ROC= [0.8897608544230323, 0.8561708418699943, 0.8592091171540324, 0.8697150307319799, 0.876759410801964]\n",
      "Fold-Wise AUC PRC= [0.8283548924770333, 0.7792048299574583, 0.7695216663494279, 0.7820955126684265, 0.8179533521824999]\n",
      "Fold-Wise accuracy= [0.8069883527454242, 0.775, 0.7683333333333333, 0.7866666666666666, 0.7913188647746243]\n",
      "AUC ROC: Mean is 0.870323, Stdev is 0.012194\n",
      "AUC PRC: Mean is 0.795426, Stdev is 0.023254\n",
      "AUC ACC: Mean is 0.785661, Stdev is 0.013430\n",
      "knn (preprocessing: standardscaler):\n",
      "Fold-Wise AUC ROC= [0.8713141397724634, 0.8743946731234866, 0.857462981933321, 0.8662402216427639, 0.8654489127893383]\n",
      "Fold-Wise AUC PRC= [0.7926951814877494, 0.7954312957056486, 0.7827021322016332, 0.7719302031300049, 0.7936064637993807]\n",
      "Fold-Wise accuracy= [0.78369384359401, 0.7816666666666666, 0.7566666666666667, 0.7766666666666666, 0.7913188647746243]\n",
      "AUC ROC: Mean is 0.866972, Stdev is 0.005783\n",
      "AUC PRC: Mean is 0.787273, Stdev is 0.008858\n",
      "AUC ACC: Mean is 0.778003, Stdev is 0.011663\n",
      "knn (preprocessing: MinMaxScaler):\n",
      "Fold-Wise AUC ROC= [0.8680462038541908, 0.8527658781896069, 0.856886757310486, 0.8689176289811882, 0.8689852700490998]\n",
      "Fold-Wise AUC PRC= [0.7965513994100761, 0.7592427631978197, 0.7760821056564724, 0.7840260971359, 0.7971370866017589]\n",
      "Fold-Wise accuracy= [0.7853577371048253, 0.775, 0.7616666666666667, 0.7833333333333333, 0.7796327212020033]\n",
      "AUC ROC: Mean is 0.863120, Stdev is 0.006904\n",
      "AUC PRC: Mean is 0.782608, Stdev is 0.014114\n",
      "AUC ACC: Mean is 0.776998, Stdev is 0.008438\n"
     ]
    }
   ],
   "source": [
    "# 5-fold stratified cross-validation\n",
    "knn_opt = KNeighborsClassifier(n_neighbors=12,weights = 'distance',p=1)\n",
    "print('knn (preprocessing: normalizer):')\n",
    "clf_performance(Xtrain_normalizer,Ytrain,knn_opt)\n",
    "print('knn (preprocessing: standardscaler):')\n",
    "clf_performance(Xtrain_standardscaler,Ytrain,knn_opt)\n",
    "print('knn (preprocessing: MinMaxScaler):')\n",
    "clf_performance(Xtrain_minmax,Ytrain,knn_opt)"
   ]
  },
  {
   "cell_type": "code",
   "execution_count": 28,
   "metadata": {},
   "outputs": [],
   "source": [
    "# https://scikit-learn.org/stable/modules/generated/sklearn.linear_model.Perceptron.html#sklearn.linear_model.Perceptron\n",
    "from sklearn.linear_model import Perceptron"
   ]
  },
  {
   "cell_type": "code",
   "execution_count": 105,
   "metadata": {
    "collapsed": true
   },
   "outputs": [
    {
     "name": "stdout",
     "output_type": "stream",
     "text": [
      "{'alpha': 0.01, 'max_iter': 500, 'penalty': 'l1', 'tol': 0.0001}\n"
     ]
    }
   ],
   "source": [
    "# train Perceptron (no preprocessing)\n",
    "param_pp_non = {'penalty':['l2','l1','elasticnet',None],'alpha':[0.00001,0.0001,0.001,0.01],'max_iter':[500,1000,1500,2000],'tol':[1e-4,1e-3,1e-2]}\n",
    "best_g = GridSearchCV(Perceptron(),param_pp_non,cv=5,scoring = 'roc_auc',n_jobs = -1)\n",
    "best_g.fit(Xtrain,Ytrain)\n",
    "print(best_g.best_params_)"
   ]
  },
  {
   "cell_type": "code",
   "execution_count": 102,
   "metadata": {
    "collapsed": true
   },
   "outputs": [
    {
     "name": "stdout",
     "output_type": "stream",
     "text": [
      "{'alpha': 0.0001, 'max_iter': 500, 'penalty': 'l1', 'tol': 0.0001}\n"
     ]
    }
   ],
   "source": [
    "# Perceptron (preprocessing: MinMaxScaler)\n",
    "param_pp_minmax = {'penalty':['l2','l1','elasticnet',None],'alpha':[0.00001,0.0001,0.001,0.01],'max_iter':[500,1000,1500,2000],'tol':[1e-4,1e-3,1e-2]}\n",
    "best_g = GridSearchCV(Perceptron(),param_pp_minmax,cv=5,scoring = 'roc_auc',n_jobs = -1)\n",
    "best_g.fit(Xtrain_minmax,Ytrain)\n",
    "print(best_g.best_params_)"
   ]
  },
  {
   "cell_type": "code",
   "execution_count": 103,
   "metadata": {
    "collapsed": true
   },
   "outputs": [
    {
     "name": "stdout",
     "output_type": "stream",
     "text": [
      "{'alpha': 0.001, 'fit_intercept': True, 'max_iter': 500, 'penalty': 'l1', 'tol': 0.0001}\n"
     ]
    }
   ],
   "source": [
    "# Perceptron (preprocessing:standardscaler)\n",
    "param_pp_standard = {'penalty':['l2','l1','elasticnet',None],'alpha':[0.00001,0.0001,0.001,0.01],'fit_intercept':[True,False],'max_iter':[500,1000,1500,2000],'tol':[1e-4,1e-3,1e-2]}\n",
    "best_g = GridSearchCV(Perceptron(),param_pp_standard,cv=5,scoring = 'roc_auc',n_jobs = -1)\n",
    "best_g.fit(Xtrain_standardscaler,Ytrain)\n",
    "print(best_g.best_params_)"
   ]
  },
  {
   "cell_type": "code",
   "execution_count": 104,
   "metadata": {
    "collapsed": true
   },
   "outputs": [
    {
     "name": "stdout",
     "output_type": "stream",
     "text": [
      "{'alpha': 0.0001, 'fit_intercept': True, 'max_iter': 100, 'penalty': 'l1', 'tol': 0.01}\n"
     ]
    }
   ],
   "source": [
    "# Perceptron (preprocessing: normalizer)\n",
    "param_pp_normalizer = {'penalty':['l2','l1','elasticnet',None],'alpha':[0.00001,0.0001,0.001,0.01],'fit_intercept':[True,False],'max_iter':[100,300,500,1000,1500,2000],'tol':[1e-4,1e-3,1e-2]}\n",
    "best_g = GridSearchCV(Perceptron(),param_pp_normalizer,cv=5,scoring = 'roc_auc',n_jobs = -1)\n",
    "best_g.fit(Xtrain_normalizer,Ytrain)\n",
    "print(best_g.best_params_)"
   ]
  },
  {
   "cell_type": "code",
   "execution_count": 106,
   "metadata": {},
   "outputs": [
    {
     "name": "stdout",
     "output_type": "stream",
     "text": [
      "-------------------------------------\n",
      "Perceptron (no preprocessing):\n",
      "Fold-Wise AUC ROC= [0.7771186440677966, 0.7372415719873348, 0.7054968336747999, 0.7513619854721552, 0.752758943184475]\n",
      "Fold-Wise AUC PRC= [0.6493190801815768, 0.6199532872777158, 0.5959284222016002, 0.5851385173084873, 0.6359073700655906]\n",
      "Fold-Wise accuracy= [0.7104825291181365, 0.5833333333333334, 0.645, 0.695, 0.6110183639398998]\n",
      "AUC ROC: Mean is 0.744796, Stdev is 0.023464\n",
      "AUC PRC: Mean is 0.617249, Stdev is 0.023957\n",
      "AUC ACC: Mean is 0.648967, Stdev is 0.048305\n",
      "-------------------------------------\n",
      "Perceptron (preprocessing: normalizer):\n",
      "Fold-Wise AUC ROC= [0.779196656605526, 0.7925474948780034, 0.7974483143974669, 0.7903473644999068, 0.7681435585690904]\n",
      "Fold-Wise AUC PRC= [0.6341941291615427, 0.6287758892541151, 0.6527901251530631, 0.6193514011920515, 0.6051288996247857]\n",
      "Fold-Wise accuracy= [0.6405990016638935, 0.6483333333333333, 0.515, 0.6833333333333333, 0.5592654424040067]\n",
      "AUC ROC: Mean is 0.785537, Stdev is 0.010554\n",
      "AUC PRC: Mean is 0.628048, Stdev is 0.015820\n",
      "AUC ACC: Mean is 0.609306, Stdev is 0.062258\n",
      "-------------------------------------\n",
      "Perceptron (preprocessing: standardscaler):\n",
      "Fold-Wise AUC ROC= [0.7373926166705363, 0.7574152542372881, 0.5989709443099274, 0.6497834792326318, 0.6893617021276595]\n",
      "Fold-Wise AUC PRC= [0.6242703582795779, 0.6127414867536526, 0.4759638342278614, 0.5310406996598941, 0.5173032113029808]\n",
      "Fold-Wise accuracy= [0.7021630615640599, 0.6916666666666667, 0.58, 0.6433333333333333, 0.674457429048414]\n",
      "AUC ROC: Mean is 0.686585, Stdev is 0.057683\n",
      "AUC PRC: Mean is 0.552264, Stdev is 0.057161\n",
      "AUC ACC: Mean is 0.658324, Stdev is 0.043939\n",
      "-------------------------------------\n",
      "Perceptron (preprocessing: MinMaxScaler):\n",
      "Fold-Wise AUC ROC= [0.7480264685395867, 0.7654241944496182, 0.7788694356490966, 0.7899282920469362, 0.784159457563713]\n",
      "Fold-Wise AUC PRC= [0.5915191106171196, 0.6408290597350861, 0.6199915582537207, 0.6350224447931043, 0.6467886837123875]\n",
      "Fold-Wise accuracy= [0.6838602329450915, 0.7016666666666667, 0.6716666666666666, 0.6683333333333333, 0.6110183639398998]\n",
      "AUC ROC: Mean is 0.773282, Stdev is 0.015008\n",
      "AUC PRC: Mean is 0.626830, Stdev is 0.019774\n",
      "AUC ACC: Mean is 0.667309, Stdev is 0.030473\n"
     ]
    }
   ],
   "source": [
    "# 5-fold stratified cross-validation\n",
    "print('-------------------------------------')\n",
    "pp_opt_non= Perceptron(alpha= 0.01, max_iter=500, penalty='l1', tol= 0.0001)\n",
    "print('Perceptron (no preprocessing):')\n",
    "clf_performance(Xtrain,Ytrain,pp_opt_non)\n",
    "\n",
    "print('-------------------------------------')\n",
    "pp_opt_normalizer= Perceptron(alpha=0.0001, fit_intercept= True, max_iter=100, penalty= 'l1', tol= 0.01)\n",
    "print('Perceptron (preprocessing: normalizer):')\n",
    "clf_performance(Xtrain_normalizer,Ytrain,pp_opt_normalizer)\n",
    "\n",
    "print('-------------------------------------')\n",
    "pp_opt_standard= Perceptron(alpha=0.001, fit_intercept= True, max_iter= 500, penalty= 'l1', tol= 0.0001)\n",
    "print('Perceptron (preprocessing: standardscaler):')\n",
    "clf_performance(Xtrain_standardscaler,Ytrain,pp_opt_standard)\n",
    "\n",
    "print('-------------------------------------')\n",
    "pp_opt_MinMax= Perceptron(alpha=0.0001, max_iter=500, penalty='l1', tol=0.0001)\n",
    "print('Perceptron (preprocessing: MinMaxScaler):')\n",
    "clf_performance(Xtrain_minmax,Ytrain,pp_opt_MinMax)"
   ]
  },
  {
   "cell_type": "code",
   "execution_count": 27,
   "metadata": {},
   "outputs": [],
   "source": [
    "# Naïve Bayes Classifier\n",
    "# https://scikit-learn.org/stable/modules/generated/sklearn.naive_bayes.BernoulliNB.html#sklearn.naive_bayes.BernoulliNB\n",
    "from sklearn.naive_bayes import MultinomialNB"
   ]
  },
  {
   "cell_type": "code",
   "execution_count": 108,
   "metadata": {
    "collapsed": true
   },
   "outputs": [
    {
     "name": "stdout",
     "output_type": "stream",
     "text": [
      "{'alpha': 16, 'fit_prior': True}\n"
     ]
    }
   ],
   "source": [
    "# NBC(non-preprocessing)\n",
    "param_nb_normalizer = {'alpha' :[i for i in range(1,20)],'fit_prior':[True,False]}\n",
    "best_g = GridSearchCV(MultinomialNB(),param_nb_normalizer,cv=5,scoring = 'roc_auc',n_jobs = -1)\n",
    "best_g.fit(Xtrain,Ytrain)\n",
    "print(best_g.best_params_)"
   ]
  },
  {
   "cell_type": "code",
   "execution_count": 84,
   "metadata": {},
   "outputs": [
    {
     "name": "stdout",
     "output_type": "stream",
     "text": [
      "nb (no preprocessing):\n",
      "Fold-Wise AUC ROC= [0.7411713489667981, 0.6873079251257218, 0.730920562488359, 0.7236158968150493, 0.6767944821136311]\n",
      "Fold-Wise AUC PRC= [0.7237981114917537, 0.6820253435365524, 0.7121920539900034, 0.7157002820887283, 0.6798512589178823]\n",
      "Fold-Wise accuracy= [0.6938435940099834, 0.635, 0.69, 0.6883333333333334, 0.6460767946577629]\n",
      "AUC ROC: Mean is 0.711962, Stdev is 0.025271\n",
      "AUC PRC: Mean is 0.702713, Stdev is 0.018186\n",
      "AUC ACC: Mean is 0.670651, Stdev is 0.024899\n"
     ]
    }
   ],
   "source": [
    "# 5-fold stratified cross-validation\n",
    "nb_opt_non = MultinomialNB(alpha=16, fit_prior= True)\n",
    "print('nb (no preprocessing):')\n",
    "clf_performance(Xtrain,Ytrain,nb_opt_non)\n"
   ]
  },
  {
   "cell_type": "code",
   "execution_count": 26,
   "metadata": {},
   "outputs": [],
   "source": [
    "# Logistic regression\n",
    "#https://scikit-learn.org/stable/modules/generated/sklearn.linear_model.LogisticRegression.html#sklearn.linear_model.LogisticRegression\n",
    "from sklearn.linear_model import LogisticRegression"
   ]
  },
  {
   "cell_type": "code",
   "execution_count": 111,
   "metadata": {
    "collapsed": true
   },
   "outputs": [
    {
     "name": "stdout",
     "output_type": "stream",
     "text": [
      "{'C': 0.1, 'penalty': 'l2', 'solver': 'saga'}\n"
     ]
    },
    {
     "name": "stderr",
     "output_type": "stream",
     "text": [
      "/local/java/python-pip-packages.cs909/lib64/python3.6/site-packages/sklearn/linear_model/sag.py:334: ConvergenceWarning: The max_iter was reached which means the coef_ did not converge\n",
      "  \"the coef_ did not converge\", ConvergenceWarning)\n"
     ]
    }
   ],
   "source": [
    "# lgr(non-preprocessing)\n",
    "param_lgr = {'penalty':['l2'],'C':[0.1,1,10],'solver':['newton-cg','lbfgs','sag','saga']}\n",
    "best_g = GridSearchCV(LogisticRegression(),param_lgr,cv=5,scoring = 'roc_auc',n_jobs = -1)\n",
    "best_g.fit(Xtrain,Ytrain)\n",
    "print(best_g.best_params_)"
   ]
  },
  {
   "cell_type": "code",
   "execution_count": 112,
   "metadata": {
    "collapsed": true
   },
   "outputs": [
    {
     "name": "stdout",
     "output_type": "stream",
     "text": [
      "{'C': 10, 'penalty': 'l2', 'solver': 'sag'}\n"
     ]
    }
   ],
   "source": [
    "# lgr(preprocessing: normalizer):\n",
    "param_lgr_normalizer = {'penalty':['l2'],'C':[0.1,1,10],'solver':['newton-cg','lbfgs','sag','saga']}\n",
    "best_g = GridSearchCV(LogisticRegression(),param_lgr_normalizer,cv=5,scoring = 'roc_auc',n_jobs = -1)\n",
    "best_g.fit(Xtrain_normalizer,Ytrain)\n",
    "print(best_g.best_params_)"
   ]
  },
  {
   "cell_type": "code",
   "execution_count": 113,
   "metadata": {
    "collapsed": true
   },
   "outputs": [
    {
     "name": "stdout",
     "output_type": "stream",
     "text": [
      "{'C': 0.1, 'penalty': 'l2', 'solver': 'saga'}\n"
     ]
    },
    {
     "name": "stderr",
     "output_type": "stream",
     "text": [
      "/local/java/python-pip-packages.cs909/lib64/python3.6/site-packages/sklearn/linear_model/sag.py:334: ConvergenceWarning: The max_iter was reached which means the coef_ did not converge\n",
      "  \"the coef_ did not converge\", ConvergenceWarning)\n"
     ]
    }
   ],
   "source": [
    "# lgr(preprocessing:standardscaler)\n",
    "param_lgr_standard = {'penalty':['l2'],'C':[0.1,1,10],'solver':['newton-cg','lbfgs','sag','saga']}\n",
    "best_g = GridSearchCV(LogisticRegression(),param_lgr_standard,cv=5,scoring = 'roc_auc',n_jobs = -1)\n",
    "best_g.fit(Xtrain_standardscaler,Ytrain)\n",
    "print(best_g.best_params_)"
   ]
  },
  {
   "cell_type": "code",
   "execution_count": 114,
   "metadata": {
    "collapsed": true
   },
   "outputs": [
    {
     "name": "stdout",
     "output_type": "stream",
     "text": [
      "{'C': 0.1, 'penalty': 'l2', 'solver': 'newton-cg'}\n"
     ]
    }
   ],
   "source": [
    "# lgr(preprocessing:minmaxscaler)\n",
    "param_lgr_minmax = {'penalty':['l2'],'C':[0.1,1,10],'solver':['newton-cg','lbfgs','sag','saga']}\n",
    "best_g = GridSearchCV(LogisticRegression(),param_lgr_minmax,cv=5,scoring = 'roc_auc',n_jobs = -1)\n",
    "best_g.fit(Xtrain_minmax,Ytrain)\n",
    "print(best_g.best_params_)"
   ]
  },
  {
   "cell_type": "code",
   "execution_count": 115,
   "metadata": {},
   "outputs": [
    {
     "name": "stdout",
     "output_type": "stream",
     "text": [
      "-------------------------------------\n",
      "LogisticRegression(no preprocessing):\n"
     ]
    },
    {
     "name": "stderr",
     "output_type": "stream",
     "text": [
      "/local/java/python-pip-packages.cs909/lib64/python3.6/site-packages/sklearn/linear_model/sag.py:334: ConvergenceWarning: The max_iter was reached which means the coef_ did not converge\n",
      "  \"the coef_ did not converge\", ConvergenceWarning)\n",
      "/local/java/python-pip-packages.cs909/lib64/python3.6/site-packages/sklearn/linear_model/sag.py:334: ConvergenceWarning: The max_iter was reached which means the coef_ did not converge\n",
      "  \"the coef_ did not converge\", ConvergenceWarning)\n",
      "/local/java/python-pip-packages.cs909/lib64/python3.6/site-packages/sklearn/linear_model/sag.py:334: ConvergenceWarning: The max_iter was reached which means the coef_ did not converge\n",
      "  \"the coef_ did not converge\", ConvergenceWarning)\n",
      "/local/java/python-pip-packages.cs909/lib64/python3.6/site-packages/sklearn/linear_model/sag.py:334: ConvergenceWarning: The max_iter was reached which means the coef_ did not converge\n",
      "  \"the coef_ did not converge\", ConvergenceWarning)\n",
      "/local/java/python-pip-packages.cs909/lib64/python3.6/site-packages/sklearn/linear_model/sag.py:334: ConvergenceWarning: The max_iter was reached which means the coef_ did not converge\n",
      "  \"the coef_ did not converge\", ConvergenceWarning)\n"
     ]
    },
    {
     "name": "stdout",
     "output_type": "stream",
     "text": [
      "Fold-Wise AUC ROC= [0.7175528209890876, 0.7735262618737195, 0.778624976718197, 0.7942470664928291, 0.7474281038110826]\n",
      "Fold-Wise AUC PRC= [0.5466699822433911, 0.6246928269459324, 0.65497751308606, 0.6547590675510317, 0.5847470501204574]\n",
      "Fold-Wise accuracy= [0.6638935108153078, 0.7216666666666667, 0.7116666666666667, 0.7116666666666667, 0.6944908180300501]\n",
      "AUC ROC: Mean is 0.762276, Stdev is 0.026969\n",
      "AUC PRC: Mean is 0.613169, Stdev is 0.042049\n",
      "AUC ACC: Mean is 0.700677, Stdev is 0.020364\n",
      "-------------------------------------\n",
      "LogisticRegression(preprocessing: normalizer):\n",
      "Fold-Wise AUC ROC= [0.8310657069886231, 0.7948174706649282, 0.7773095548519278, 0.8015226299124605, 0.7566167874678513]\n",
      "Fold-Wise AUC PRC= [0.7043515126502964, 0.6633286305253432, 0.606048194274534, 0.6442840518860433, 0.6036575979904549]\n",
      "Fold-Wise accuracy= [0.7470881863560732, 0.715, 0.685, 0.72, 0.676126878130217]\n",
      "AUC ROC: Mean is 0.792266, Stdev is 0.024868\n",
      "AUC PRC: Mean is 0.644334, Stdev is 0.037638\n",
      "AUC ACC: Mean is 0.708643, Stdev is 0.025549\n",
      "-------------------------------------\n",
      "LogisticRegression (preprocessing: standardscaler):\n"
     ]
    },
    {
     "name": "stderr",
     "output_type": "stream",
     "text": [
      "/local/java/python-pip-packages.cs909/lib64/python3.6/site-packages/sklearn/linear_model/sag.py:334: ConvergenceWarning: The max_iter was reached which means the coef_ did not converge\n",
      "  \"the coef_ did not converge\", ConvergenceWarning)\n",
      "/local/java/python-pip-packages.cs909/lib64/python3.6/site-packages/sklearn/linear_model/sag.py:334: ConvergenceWarning: The max_iter was reached which means the coef_ did not converge\n",
      "  \"the coef_ did not converge\", ConvergenceWarning)\n",
      "/local/java/python-pip-packages.cs909/lib64/python3.6/site-packages/sklearn/linear_model/sag.py:334: ConvergenceWarning: The max_iter was reached which means the coef_ did not converge\n",
      "  \"the coef_ did not converge\", ConvergenceWarning)\n",
      "/local/java/python-pip-packages.cs909/lib64/python3.6/site-packages/sklearn/linear_model/sag.py:334: ConvergenceWarning: The max_iter was reached which means the coef_ did not converge\n",
      "  \"the coef_ did not converge\", ConvergenceWarning)\n",
      "/local/java/python-pip-packages.cs909/lib64/python3.6/site-packages/sklearn/linear_model/sag.py:334: ConvergenceWarning: The max_iter was reached which means the coef_ did not converge\n",
      "  \"the coef_ did not converge\", ConvergenceWarning)\n"
     ]
    },
    {
     "name": "stdout",
     "output_type": "stream",
     "text": [
      "Fold-Wise AUC ROC= [0.7928256326909683, 0.783793536971503, 0.7768672005960142, 0.7839099459862172, 0.7790273556231003]\n",
      "Fold-Wise AUC PRC= [0.6798359809329012, 0.6336092724315556, 0.6242129413271432, 0.61325400078675, 0.6309314365644612]\n",
      "Fold-Wise accuracy= [0.7154742096505824, 0.7166666666666667, 0.7283333333333334, 0.7016666666666667, 0.7111853088480802]\n",
      "AUC ROC: Mean is 0.783285, Stdev is 0.005495\n",
      "AUC PRC: Mean is 0.636369, Stdev is 0.022841\n",
      "AUC ACC: Mean is 0.714665, Stdev is 0.008632\n",
      "-------------------------------------\n",
      "LogisticRegression (preprocessing: MinMaxScaler):\n",
      "Fold-Wise AUC ROC= [0.802646853958672, 0.8145953622648539, 0.7680666790836284, 0.8063303222201528, 0.7888356324526538]\n",
      "Fold-Wise AUC PRC= [0.6347023193100718, 0.6604405892282541, 0.6415717196144645, 0.6652331214940915, 0.6226907216370614]\n",
      "Fold-Wise accuracy= [0.7254575707154742, 0.7216666666666667, 0.685, 0.72, 0.7028380634390651]\n",
      "AUC ROC: Mean is 0.796095, Stdev is 0.016299\n",
      "AUC PRC: Mean is 0.644928, Stdev is 0.015895\n",
      "AUC ACC: Mean is 0.710992, Stdev is 0.015142\n"
     ]
    }
   ],
   "source": [
    "# 5-fold stratified cross-validation\n",
    "print('-------------------------------------')\n",
    "lgr_opt_non= LogisticRegression(C=0.1, penalty='l2', solver= 'saga')\n",
    "print('LogisticRegression(no preprocessing):')\n",
    "clf_performance(Xtrain,Ytrain,lgr_opt_non)\n",
    "\n",
    "print('-------------------------------------')\n",
    "lgr_opt_normalizer= LogisticRegression(C=10, penalty='l2', solver= 'sag')\n",
    "print('LogisticRegression(preprocessing: normalizer):')\n",
    "clf_performance(Xtrain_normalizer,Ytrain,lgr_opt_normalizer)\n",
    "\n",
    "print('-------------------------------------')\n",
    "lgr_opt_standard= LogisticRegression(C= 0.1, penalty='l2', solver= 'saga')\n",
    "print('LogisticRegression (preprocessing: standardscaler):')\n",
    "clf_performance(Xtrain_standardscaler,Ytrain,lgr_opt_standard)\n",
    "\n",
    "print('-------------------------------------')\n",
    "lgr_opt_MinMax= LogisticRegression(C= 0.1, penalty= 'l2', solver= 'newton-cg')\n",
    "print('LogisticRegression (preprocessing: MinMaxScaler):')\n",
    "clf_performance(Xtrain_minmax,Ytrain,lgr_opt_MinMax)"
   ]
  },
  {
   "cell_type": "code",
   "execution_count": 24,
   "metadata": {},
   "outputs": [],
   "source": [
    "# Linear SVM\n",
    "# https://scikit-learn.org/stable/modules/generated/sklearn.svm.LinearSVC.html#sklearn.svm.LinearSVC\n",
    "from sklearn.svm import LinearSVC"
   ]
  },
  {
   "cell_type": "code",
   "execution_count": 117,
   "metadata": {
    "collapsed": true
   },
   "outputs": [
    {
     "name": "stdout",
     "output_type": "stream",
     "text": [
      "{'C': 0.1, 'dual': False, 'penalty': 'l1'}\n"
     ]
    },
    {
     "name": "stderr",
     "output_type": "stream",
     "text": [
      "/local/java/python-pip-packages.cs909/lib64/python3.6/site-packages/sklearn/svm/base.py:922: ConvergenceWarning: Liblinear failed to converge, increase the number of iterations.\n",
      "  \"the number of iterations.\", ConvergenceWarning)\n"
     ]
    }
   ],
   "source": [
    "# LSVM(non-preprocessing)\n",
    "param_lsvm = {'penalty':['l1','l2'],'C':[0.1,1,10],'dual':[False]}\n",
    "best_g = GridSearchCV(LinearSVC(),param_lsvm,cv=5,scoring = 'roc_auc',n_jobs = -1)\n",
    "best_g.fit(Xtrain,Ytrain)\n",
    "print(best_g.best_params_)"
   ]
  },
  {
   "cell_type": "code",
   "execution_count": 118,
   "metadata": {
    "collapsed": true
   },
   "outputs": [
    {
     "name": "stdout",
     "output_type": "stream",
     "text": [
      "{'C': 0.1, 'dual': False, 'penalty': 'l1'}\n"
     ]
    },
    {
     "name": "stderr",
     "output_type": "stream",
     "text": [
      "/local/java/python-pip-packages.cs909/lib64/python3.6/site-packages/sklearn/svm/base.py:922: ConvergenceWarning: Liblinear failed to converge, increase the number of iterations.\n",
      "  \"the number of iterations.\", ConvergenceWarning)\n"
     ]
    }
   ],
   "source": [
    "# LSVM(preprocessing:MinMaxScaler)\n",
    "param_lsvm_minmax = {'penalty':['l1','l2'],'C':[0.1,1,10],'dual':[False]}\n",
    "best_g = GridSearchCV(LinearSVC(),param_lsvm_minmax,cv=5,scoring = 'roc_auc',n_jobs = -1)\n",
    "best_g.fit(Xtrain_minmax,Ytrain)\n",
    "print(best_g.best_params_)"
   ]
  },
  {
   "cell_type": "code",
   "execution_count": 119,
   "metadata": {
    "collapsed": true
   },
   "outputs": [
    {
     "name": "stdout",
     "output_type": "stream",
     "text": [
      "{'C': 0.1, 'dual': False, 'penalty': 'l1'}\n"
     ]
    }
   ],
   "source": [
    "# LSVM(preprocessing:standardscaler)\n",
    "param_lsvm_standard = {'penalty':['l1','l2'],'C':[0.1,1,10],'dual':[False]}\n",
    "best_g = GridSearchCV(LinearSVC(),param_lsvm_standard,cv=5,scoring = 'roc_auc',n_jobs = -1)\n",
    "best_g.fit(Xtrain_standardscaler,Ytrain)\n",
    "print(best_g.best_params_)"
   ]
  },
  {
   "cell_type": "code",
   "execution_count": 120,
   "metadata": {
    "collapsed": true
   },
   "outputs": [
    {
     "name": "stdout",
     "output_type": "stream",
     "text": [
      "{'C': 1, 'dual': False, 'penalty': 'l2'}\n"
     ]
    }
   ],
   "source": [
    "# LSVM(preprocessing:normalizer)\n",
    "param_lsvm_normalizer = {'penalty':['l1','l2'],'C':[0.1,1,10],'dual':[False]}\n",
    "best_g = GridSearchCV(LinearSVC(),param_lsvm_normalizer,cv=5,scoring = 'roc_auc',n_jobs = -1)\n",
    "best_g.fit(Xtrain_normalizer,Ytrain)\n",
    "print(best_g.best_params_)"
   ]
  },
  {
   "cell_type": "code",
   "execution_count": 124,
   "metadata": {},
   "outputs": [
    {
     "name": "stdout",
     "output_type": "stream",
     "text": [
      "-------------------------------------\n",
      "lsvm (no preprocessing):\n"
     ]
    },
    {
     "name": "stderr",
     "output_type": "stream",
     "text": [
      "/local/java/python-pip-packages.cs909/lib64/python3.6/site-packages/sklearn/svm/base.py:922: ConvergenceWarning: Liblinear failed to converge, increase the number of iterations.\n",
      "  \"the number of iterations.\", ConvergenceWarning)\n",
      "/local/java/python-pip-packages.cs909/lib64/python3.6/site-packages/sklearn/svm/base.py:922: ConvergenceWarning: Liblinear failed to converge, increase the number of iterations.\n",
      "  \"the number of iterations.\", ConvergenceWarning)\n",
      "/local/java/python-pip-packages.cs909/lib64/python3.6/site-packages/sklearn/svm/base.py:922: ConvergenceWarning: Liblinear failed to converge, increase the number of iterations.\n",
      "  \"the number of iterations.\", ConvergenceWarning)\n",
      "/local/java/python-pip-packages.cs909/lib64/python3.6/site-packages/sklearn/svm/base.py:922: ConvergenceWarning: Liblinear failed to converge, increase the number of iterations.\n",
      "  \"the number of iterations.\", ConvergenceWarning)\n",
      "/local/java/python-pip-packages.cs909/lib64/python3.6/site-packages/sklearn/svm/base.py:922: ConvergenceWarning: Liblinear failed to converge, increase the number of iterations.\n",
      "  \"the number of iterations.\", ConvergenceWarning)\n"
     ]
    },
    {
     "name": "stdout",
     "output_type": "stream",
     "text": [
      "Fold-Wise AUC ROC= [0.7369630833526817, 0.7125162972620599, 0.7105257031104489, 0.7369156267461352, 0.7196750058452186]\n",
      "Fold-Wise AUC PRC= [0.5918087998893922, 0.5855126534452024, 0.582736680545239, 0.5770344595697501, 0.592569508871776]\n",
      "Fold-Wise accuracy= [0.6905158069883528, 0.6616666666666666, 0.6633333333333333, 0.675, 0.674457429048414]\n",
      "AUC ROC: Mean is 0.723319, Stdev is 0.011530\n",
      "AUC PRC: Mean is 0.585932, Stdev is 0.005799\n",
      "AUC ACC: Mean is 0.672995, Stdev is 0.010342\n",
      "-------------------------------------\n",
      "lsvm (preprocessing: minmaxscaler):\n"
     ]
    },
    {
     "name": "stderr",
     "output_type": "stream",
     "text": [
      "/local/java/python-pip-packages.cs909/lib64/python3.6/site-packages/sklearn/svm/base.py:922: ConvergenceWarning: Liblinear failed to converge, increase the number of iterations.\n",
      "  \"the number of iterations.\", ConvergenceWarning)\n",
      "/local/java/python-pip-packages.cs909/lib64/python3.6/site-packages/sklearn/svm/base.py:922: ConvergenceWarning: Liblinear failed to converge, increase the number of iterations.\n",
      "  \"the number of iterations.\", ConvergenceWarning)\n",
      "/local/java/python-pip-packages.cs909/lib64/python3.6/site-packages/sklearn/svm/base.py:922: ConvergenceWarning: Liblinear failed to converge, increase the number of iterations.\n",
      "  \"the number of iterations.\", ConvergenceWarning)\n",
      "/local/java/python-pip-packages.cs909/lib64/python3.6/site-packages/sklearn/svm/base.py:922: ConvergenceWarning: Liblinear failed to converge, increase the number of iterations.\n",
      "  \"the number of iterations.\", ConvergenceWarning)\n"
     ]
    },
    {
     "name": "stdout",
     "output_type": "stream",
     "text": [
      "Fold-Wise AUC ROC= [0.82230090550267, 0.7696964052896255, 0.7828971875582045, 0.7813023840566213, 0.807236380640636]\n",
      "Fold-Wise AUC PRC= [0.6908704512647073, 0.6114084342918227, 0.6122592461583927, 0.614004657497059, 0.668608840679376]\n",
      "Fold-Wise accuracy= [0.7304492512479202, 0.695, 0.7033333333333334, 0.7283333333333334, 0.7312186978297162]\n",
      "AUC ROC: Mean is 0.792687, Stdev is 0.019197\n",
      "AUC PRC: Mean is 0.639430, Stdev is 0.033667\n",
      "AUC ACC: Mean is 0.717667, Stdev is 0.015363\n",
      "-------------------------------------\n",
      "lsvm (preprocessing: standardscaler):\n"
     ]
    },
    {
     "name": "stderr",
     "output_type": "stream",
     "text": [
      "/local/java/python-pip-packages.cs909/lib64/python3.6/site-packages/sklearn/svm/base.py:922: ConvergenceWarning: Liblinear failed to converge, increase the number of iterations.\n",
      "  \"the number of iterations.\", ConvergenceWarning)\n",
      "/local/java/python-pip-packages.cs909/lib64/python3.6/site-packages/sklearn/svm/base.py:922: ConvergenceWarning: Liblinear failed to converge, increase the number of iterations.\n",
      "  \"the number of iterations.\", ConvergenceWarning)\n",
      "/local/java/python-pip-packages.cs909/lib64/python3.6/site-packages/sklearn/svm/base.py:922: ConvergenceWarning: Liblinear failed to converge, increase the number of iterations.\n",
      "  \"the number of iterations.\", ConvergenceWarning)\n"
     ]
    },
    {
     "name": "stdout",
     "output_type": "stream",
     "text": [
      "Fold-Wise AUC ROC= [0.7845368005572324, 0.7732934438442912, 0.7273235239336934, 0.7576480722667163, 0.7968903436988544]\n",
      "Fold-Wise AUC PRC= [0.6611578432171417, 0.6376452983579659, 0.5527654960483895, 0.5797511852306528, 0.6452570181719901]\n",
      "Fold-Wise accuracy= [0.7121464226289518, 0.7, 0.68, 0.69, 0.7278797996661102]\n",
      "AUC ROC: Mean is 0.767938, Stdev is 0.024074\n",
      "AUC PRC: Mean is 0.615315, Stdev is 0.041651\n",
      "AUC ACC: Mean is 0.702005, Stdev is 0.016761\n",
      "-------------------------------------\n",
      "lsvm (preprocessing: normalizer):\n",
      "Fold-Wise AUC ROC= [0.7997213837938241, 0.791569659154405, 0.7765528962562861, 0.8163880610914509, 0.7973813420621931]\n",
      "Fold-Wise AUC PRC= [0.666745511938928, 0.6387776823662338, 0.6326784437290285, 0.680034049464288, 0.6290598544522165]\n",
      "Fold-Wise accuracy= [0.7237936772046589, 0.7233333333333334, 0.6916666666666667, 0.7433333333333333, 0.7295492487479132]\n",
      "AUC ROC: Mean is 0.796323, Stdev is 0.012874\n",
      "AUC PRC: Mean is 0.649459, Stdev is 0.020226\n",
      "AUC ACC: Mean is 0.722335, Stdev is 0.016951\n"
     ]
    }
   ],
   "source": [
    "# 5-fold stratified cross-validation \n",
    "print('-------------------------------------')\n",
    "lsvm_opt_non = LinearSVC(C= 0.1, dual= False, penalty= 'l1',class_weight='balanced')\n",
    "print('lsvm (no preprocessing):')\n",
    "clf_performance(Xtrain,Ytrain,lsvm_opt_non)\n",
    "print('-------------------------------------')\n",
    "lsvm_opt_minmax = LinearSVC(C= 0.1, dual= False, penalty= 'l1',class_weight='balanced')\n",
    "print('lsvm (preprocessing: minmaxscaler):')\n",
    "clf_performance(Xtrain_minmax,Ytrain,lsvm_opt_minmax)\n",
    "print('-------------------------------------')\n",
    "lsvm_opt_standard = LinearSVC(C= 0.1, dual= False, penalty= 'l1',class_weight='balanced')\n",
    "print('lsvm (preprocessing: standardscaler):')\n",
    "clf_performance(Xtrain_standardscaler,Ytrain,lsvm_opt_standard)\n",
    "print('-------------------------------------')\n",
    "lsvm_opt_normalizer = LinearSVC(C= 1, dual= False, penalty= 'l2',class_weight='balanced')\n",
    "print('lsvm (preprocessing: normalizer):')\n",
    "clf_performance(Xtrain_normalizer,Ytrain,lsvm_opt_normalizer)\n"
   ]
  },
  {
   "cell_type": "code",
   "execution_count": 25,
   "metadata": {},
   "outputs": [],
   "source": [
    "# Kernelized SVM\n",
    "from sklearn.svm import SVC"
   ]
  },
  {
   "cell_type": "code",
   "execution_count": 144,
   "metadata": {},
   "outputs": [
    {
     "name": "stdout",
     "output_type": "stream",
     "text": [
      "{'class_weight': 'balanced', 'gamma': 7, 'kernel': 'rbf'}\n"
     ]
    }
   ],
   "source": [
    "\n",
    "param_ksvm_norm = {'kernel':['rbf','poly','sigmoid'],'gamma':[1,3,5,7,9,13],'class_weight':['balanced']}\n",
    "best_g = GridSearchCV(SVC(),param_ksvm_norm,cv=5,scoring = 'roc_auc',n_jobs = -1)\n",
    "best_g.fit(Xtrain_normalizer,Ytrain)\n",
    "print(best_g.best_params_)"
   ]
  },
  {
   "cell_type": "code",
   "execution_count": 146,
   "metadata": {},
   "outputs": [
    {
     "name": "stdout",
     "output_type": "stream",
     "text": [
      "svm (preprocessing:normalizer):\n",
      "Fold-Wise AUC ROC= [0.8713141397724635, 0.8858027565654684, 0.889795585770162, 0.8777588936487243, 0.8650222118307225]\n",
      "Fold-Wise AUC PRC= [0.772224742403081, 0.7857068155498322, 0.8103390529728056, 0.795407189009941, 0.7602577929843604]\n",
      "Fold-Wise accuracy= [0.7853577371048253, 0.8, 0.82, 0.7916666666666666, 0.7779632721202003]\n",
      "AUC ROC: Mean is 0.877939, Stdev is 0.009090\n",
      "AUC PRC: Mean is 0.784787, Stdev is 0.017470\n",
      "AUC ACC: Mean is 0.794998, Stdev is 0.014452\n"
     ]
    }
   ],
   "source": [
    "svm_opt_normalizer = SVC( kernel= 'rbf',class_weight='balanced',gamma = 7)\n",
    "print('svm (preprocessing:normalizer):')\n",
    "clf_performance(Xtrain_normalizer,Ytrain,svm_opt_normalizer)"
   ]
  },
  {
   "cell_type": "code",
   "execution_count": 145,
   "metadata": {},
   "outputs": [
    {
     "name": "stdout",
     "output_type": "stream",
     "text": [
      "{'class_weight': 'balanced', 'gamma': 1, 'kernel': 'rbf'}\n"
     ]
    }
   ],
   "source": [
    "param_ksvm_minmax = {'kernel':['rbf','poly','sigmoid'],'gamma':[1,3,5,7,9],'class_weight':['balanced']}\n",
    "best_g = GridSearchCV(SVC(),param_ksvm_minmax,cv=5,scoring = 'roc_auc',n_jobs = -1)\n",
    "best_g.fit(Xtrain_minmax,Ytrain)\n",
    "print(best_g.best_params_)"
   ]
  },
  {
   "cell_type": "code",
   "execution_count": 149,
   "metadata": {},
   "outputs": [
    {
     "name": "stdout",
     "output_type": "stream",
     "text": [
      "svm (preprocessing:minmax):\n",
      "Fold-Wise AUC ROC= [0.7815532853494312, 0.7608434997206184, 0.789951573849879, 0.7842533525796237, 0.8033960720130934]\n",
      "Fold-Wise AUC PRC= [0.6403723066454515, 0.6164224106200369, 0.6771785572562574, 0.6780991956581641, 0.6633964555330119]\n",
      "Fold-Wise accuracy= [0.6123128119800333, 0.61, 0.6133333333333333, 0.615, 0.6143572621035058]\n",
      "AUC ROC: Mean is 0.784000, Stdev is 0.013812\n",
      "AUC PRC: Mean is 0.655094, Stdev is 0.023656\n",
      "AUC ACC: Mean is 0.613001, Stdev is 0.001756\n"
     ]
    }
   ],
   "source": [
    "svm_opt_minmax = SVC(class_weight='balanced', gamma= 1, kernel='rbf')\n",
    "print('svm (preprocessing:minmax):')\n",
    "clf_performance(Xtrain_minmax,Ytrain,svm_opt_minmax)"
   ]
  },
  {
   "cell_type": "code",
   "execution_count": 143,
   "metadata": {},
   "outputs": [
    {
     "name": "stdout",
     "output_type": "stream",
     "text": [
      "svm (preprocessing:minmax):\n",
      "Fold-Wise AUC ROC= [0.7809960529370791, 0.7945497299310859, 0.8265505680759917, 0.7852486496554293, 0.7673135375263036]\n",
      "Fold-Wise AUC PRC= [0.6706037694711269, 0.6837338687702168, 0.7486166984610517, 0.688139331153968, 0.6557998589729274]\n",
      "Fold-Wise accuracy= [0.7387687188019967, 0.7416666666666667, 0.7716666666666666, 0.7566666666666667, 0.7462437395659433]\n",
      "AUC ROC: Mean is 0.790932, Stdev is 0.019853\n",
      "AUC PRC: Mean is 0.689379, Stdev is 0.031694\n",
      "AUC ACC: Mean is 0.751002, Stdev is 0.011988\n"
     ]
    }
   ],
   "source": [
    "svm_opt_minmax = SVC(class_weight='balanced', gamma= 3, kernel='poly')\n",
    "print('svm (preprocessing:minmax):')\n",
    "clf_performance(Xtrain_minmax,Ytrain,svm_opt_minmax)"
   ]
  },
  {
   "cell_type": "code",
   "execution_count": 147,
   "metadata": {},
   "outputs": [
    {
     "name": "stdout",
     "output_type": "stream",
     "text": [
      "{'class_weight': 'balanced', 'gamma': 7, 'kernel': 'poly'}\n"
     ]
    }
   ],
   "source": [
    "param_ksvm_standardscaler = {'kernel':['rbf','poly','sigmoid'],'gamma':[1,3,5,7,9],'class_weight':['balanced']}\n",
    "best_g = GridSearchCV(SVC(),param_ksvm_standardscaler,cv=5,scoring = 'roc_auc',n_jobs = -1)\n",
    "best_g.fit(Xtrain_standardscaler,Ytrain)\n",
    "print(best_g.best_params_)"
   ]
  },
  {
   "cell_type": "code",
   "execution_count": 150,
   "metadata": {},
   "outputs": [
    {
     "name": "stdout",
     "output_type": "stream",
     "text": [
      "svm (preprocessing:standardscaler):\n",
      "Fold-Wise AUC ROC= [0.8340956582307871, 0.8382962376606443, 0.8484587446451853, 0.8410784131123115, 0.8242108954874912]\n",
      "Fold-Wise AUC PRC= [0.7352507208983157, 0.7545220868061961, 0.7511949919818743, 0.7312477117050395, 0.7149108183711028]\n",
      "Fold-Wise accuracy= [0.7603993344425957, 0.76, 0.7833333333333333, 0.7833333333333333, 0.7612687813021702]\n",
      "AUC ROC: Mean is 0.837228, Stdev is 0.008017\n",
      "AUC PRC: Mean is 0.737425, Stdev is 0.014365\n",
      "AUC ACC: Mean is 0.769667, Stdev is 0.011166\n"
     ]
    }
   ],
   "source": [
    "svm_opt_standardscaler = SVC(class_weight='balanced', gamma= 7, kernel= 'poly')\n",
    "print('svm (preprocessing:standardscaler):')\n",
    "clf_performance(Xtrain_standardscaler,Ytrain,svm_opt_standardscaler)"
   ]
  },
  {
   "cell_type": "markdown",
   "metadata": {},
   "source": [
    "### Question No. 4 [5 Marks]\n",
    "\n",
    "i. Reduce the number of dimensions of the data using PCA to 2 and plot a scatter plot of the training data. What are your observations about the data based on data?(https://scikit-learn.org/stable/modules/generated/sklearn.decomposition.PCA.html)\n",
    "\n",
    "ii. Plot the scree graph of PCA and find the number of dimensions that explain 95% variance in the training set. \n",
    "* the number of dimensions that explain 95% variance is 112\n",
    "\n",
    "iii. Reduce the number of dimensions of the data using PCA and perform classification. What is the (optimal) cross-validation performance of a Kernelized SVM and XGBoost classification with PCA? Remember to perform hyperparameter optimization!\n",
    "* Kernelized SVM: SVC( gamma=5 , kernel= 'poly',class_weight= 'balanced')\n",
    "* XGBClassifier( colsample_bytree= 0.8, gamma= 1, learning_rate= 0.1, max_depth=8, min_child_weight= 4, subsample= 0.7,reg_alpha=0.01,reg_lambda= 0.001)"
   ]
  },
  {
   "cell_type": "code",
   "execution_count": 29,
   "metadata": {},
   "outputs": [
    {
     "data": {
      "text/plain": [
       "<matplotlib.collections.PathCollection at 0x200e4ce76a0>"
      ]
     },
     "execution_count": 29,
     "metadata": {},
     "output_type": "execute_result"
    },
    {
     "data": {
      "image/png": "[encoded data removed]",
      "text/plain": [
       "<Figure size 432x288 with 1 Axes>"
      ]
     },
     "metadata": {
      "needs_background": "light"
     },
     "output_type": "display_data"
    }
   ],
   "source": [
    "#i\n",
    "from sklearn.decomposition import PCA\n",
    "\n",
    "pca2 = PCA(n_components=2)\n",
    "pca2.fit(Xtrain)\n",
    "xtrain_pca2 = pca2.transform(Xtrain)\n",
    "plt.scatter(xtrain_pca2[:,0],xtrain_pca2[:,1],c = Ytrain)\n",
    "    "
   ]
  },
  {
   "cell_type": "code",
   "execution_count": 30,
   "metadata": {},
   "outputs": [
    {
     "data": {
      "text/plain": [
       "(3000, 784)"
      ]
     },
     "execution_count": 30,
     "metadata": {},
     "output_type": "execute_result"
    }
   ],
   "source": [
    "Xtrain.shape"
   ]
  },
  {
   "cell_type": "code",
   "execution_count": 31,
   "metadata": {},
   "outputs": [
    {
     "data": {
      "image/png": "[encoded data removed]",
      "text/plain": [
       "<Figure size 432x288 with 1 Axes>"
      ]
     },
     "metadata": {
      "needs_background": "light"
     },
     "output_type": "display_data"
    },
    {
     "data": {
      "image/png": "[encoded data removed]",
      "text/plain": [
       "<Figure size 432x288 with 1 Axes>"
      ]
     },
     "metadata": {
      "needs_background": "light"
     },
     "output_type": "display_data"
    }
   ],
   "source": [
    "# ii\n",
    "pca784 = PCA(n_components=784)\n",
    "pca784.fit(Xtrain)\n",
    "xtrain_pca784 = pca784.transform(Xtrain)\n",
    "plt.plot(pca784.explained_variance_); plt.grid();\n",
    "plt.xlabel('Explained Variance')\n",
    "plt.figure()\n",
    "plt.plot(np.arange(len(pca784.explained_variance_ratio_))+1,np.cumsum(pca784.explained_variance_ratio_),'o-')\n",
    "#plot the scree graph\n",
    "plt.axis([1,len(pca784.explained_variance_ratio_),0,1])\n",
    "plt.xlabel('number of components')\n",
    "plt.ylabel('cumulative explained variance');\n",
    "plt.title('Scree Graph')\n",
    "plt.grid()\n",
    "plt.show()"
   ]
  },
  {
   "cell_type": "code",
   "execution_count": 32,
   "metadata": {},
   "outputs": [
    {
     "name": "stdout",
     "output_type": "stream",
     "text": [
      "the number of dimensions that explain 95% variance is 112\n"
     ]
    }
   ],
   "source": [
    "pca95 = PCA(n_components=0.95)\n",
    "pca95.fit(Xtrain)\n",
    "print('the number of dimensions that explain 95% variance is',pca95.n_components_)"
   ]
  },
  {
   "cell_type": "code",
   "execution_count": 33,
   "metadata": {},
   "outputs": [],
   "source": [
    "# iii\n",
    "pca112 = PCA(n_components=112)\n",
    "pca112.fit(Xtrain)\n",
    "xtrain_pca= pca112.transform(Xtrain)"
   ]
  },
  {
   "cell_type": "code",
   "execution_count": 86,
   "metadata": {},
   "outputs": [
    {
     "name": "stdout",
     "output_type": "stream",
     "text": [
      "{'class_weight': 'balanced', 'gamma': 7, 'kernel': 'poly'}\n"
     ]
    }
   ],
   "source": [
    "#pca SVM\n",
    "param_ksvm_pca = {'kernel':['rbf','poly','sigmoid'],'gamma':[1,3,5,7,9],'class_weight':['balanced']}\n",
    "best_g = GridSearchCV(SVC(),param_ksvm_pca,cv=5,scoring = 'roc_auc',n_jobs = -1)\n",
    "best_g.fit(xtrain_pca,Ytrain)\n",
    "print(best_g.best_params_)"
   ]
  },
  {
   "cell_type": "code",
   "execution_count": 85,
   "metadata": {},
   "outputs": [
    {
     "name": "stdout",
     "output_type": "stream",
     "text": [
      "svm (preprocessing:pca):\n",
      "Fold-Wise AUC ROC= [0.8075226375667518, 0.804549264295027, 0.7861217172657851, 0.822522816166884, 0.8189034369885433]\n",
      "Fold-Wise AUC PRC= [0.6903313338273558, 0.6772575689973437, 0.6597969400647056, 0.696985762980365, 0.7379783860794149]\n",
      "Fold-Wise accuracy= [0.7287853577371048, 0.7166666666666667, 0.715, 0.7566666666666667, 0.7679465776293823]\n",
      "AUC ROC: Mean is 0.807924, Stdev is 0.012811\n",
      "AUC PRC: Mean is 0.692470, Stdev is 0.026057\n",
      "AUC ACC: Mean is 0.737013, Stdev is 0.021491\n"
     ]
    }
   ],
   "source": [
    "svm_opt_pca = SVC( gamma=5 , kernel= 'poly',class_weight= 'balanced')\n",
    "print('svm (preprocessing:pca):')\n",
    "clf_performance(xtrain_pca,Ytrain,svm_opt_pca)"
   ]
  },
  {
   "cell_type": "code",
   "execution_count": null,
   "metadata": {},
   "outputs": [],
   "source": [
    "# pca xgboost"
   ]
  },
  {
   "cell_type": "code",
   "execution_count": 39,
   "metadata": {},
   "outputs": [],
   "source": [
    "import xgboost as xgb\n",
    "from xgboost.sklearn import XGBClassifier"
   ]
  },
  {
   "cell_type": "code",
   "execution_count": 40,
   "metadata": {},
   "outputs": [
    {
     "name": "stdout",
     "output_type": "stream",
     "text": [
      "{'colsample_bytree': 0.8, 'gamma': 0.5, 'learning_rate': 0.01, 'max_depth': 6, 'min_child_weight': 4, 'subsample': 0.8}\n"
     ]
    }
   ],
   "source": [
    "# tune XGBClassifier parameters 1:\n",
    "param_xgb_pca = {'max_depth':[4,5,6],'min_child_weight':[4,5,6],'gamma':[0.4,0.5,0.6], 'subsample':[0.6,0.8], 'colsample_bytree':[0.8],'learning_rate':[0.01]}\n",
    "best_g = GridSearchCV(XGBClassifier(),param_xgb_pca,cv=5,scoring = 'roc_auc',n_jobs = -1)\n",
    "best_g.fit(xtrain_pca,Ytrain)\n",
    "print(best_g.best_params_)"
   ]
  },
  {
   "cell_type": "code",
   "execution_count": 45,
   "metadata": {},
   "outputs": [
    {
     "name": "stdout",
     "output_type": "stream",
     "text": [
      "xgb (preprocessing:pca):\n",
      "Fold-Wise AUC ROC= [0.8347457627118644, 0.8718685975041908, 0.8625209536226486, 0.8797029241944496, 0.8988894084638765]\n",
      "Fold-Wise AUC PRC= [0.7696934969897625, 0.7990593210522494, 0.7837019881189599, 0.8132427504986646, 0.8449633651626381]\n",
      "Fold-Wise accuracy= [0.7554076539101497, 0.7833333333333333, 0.7616666666666667, 0.7983333333333333, 0.8130217028380634]\n",
      "AUC ROC: Mean is 0.869546, Stdev is 0.021119\n",
      "AUC PRC: Mean is 0.802132, Stdev is 0.025920\n",
      "AUC ACC: Mean is 0.782353, Stdev is 0.021684\n"
     ]
    }
   ],
   "source": [
    "xgb_opt_pca = XGBClassifier( colsample_bytree= 0.8, gamma= 0.7, learning_rate= 0.01, max_depth=6, min_child_weight= 4, subsample= 0.8)\n",
    "print('xgb (preprocessing:pca):')\n",
    "clf_performance(xtrain_pca,Ytrain,xgb_opt_pca)"
   ]
  },
  {
   "cell_type": "code",
   "execution_count": 82,
   "metadata": {},
   "outputs": [
    {
     "name": "stdout",
     "output_type": "stream",
     "text": [
      "{'colsample_bytree': 0.8, 'gamma': 1, 'learning_rate': 0.1, 'max_depth': 8, 'min_child_weight': 4, 'reg_alpha': 0.01, 'reg_lambda': 0.001, 'subsample': 0.7}\n"
     ]
    }
   ],
   "source": [
    "# tune XGBClassifier parameters 2:\n",
    "param2_xgb_pca = {'max_depth':[7,8],'min_child_weight':[3,4],'gamma':[1], 'subsample':[0.6,0.7], 'colsample_bytree':[0.8],'learning_rate':[0.1],'reg_alpha':[0.001,0.01],'reg_lambda':[0.001,0.01,]}\n",
    "best_g = GridSearchCV(XGBClassifier(),param2_xgb_pca,cv=5,scoring = 'roc_auc',n_jobs = -1)\n",
    "best_g.fit(xtrain_pca,Ytrain)\n",
    "print(best_g.best_params_)"
   ]
  },
  {
   "cell_type": "code",
   "execution_count": 83,
   "metadata": {},
   "outputs": [
    {
     "name": "stdout",
     "output_type": "stream",
     "text": [
      "xgb2 (preprocessing:pca):\n",
      "Fold-Wise AUC ROC= [0.881692593452519, 0.8822057180108027, 0.8826364313652449, 0.8619272676476066, 0.874538227729717]\n",
      "Fold-Wise AUC PRC= [0.8130603878230814, 0.82158114635751, 0.8103175620462673, 0.7916271160965971, 0.8041127067472414]\n",
      "Fold-Wise accuracy= [0.8069883527454242, 0.7933333333333333, 0.7933333333333333, 0.7883333333333333, 0.7996661101836394]\n",
      "AUC ROC: Mean is 0.876600, Stdev is 0.007916\n",
      "AUC PRC: Mean is 0.808140, Stdev is 0.009985\n",
      "AUC ACC: Mean is 0.796331, Stdev is 0.006429\n"
     ]
    }
   ],
   "source": [
    "xgb2_opt_pca = XGBClassifier( colsample_bytree= 0.8, gamma= 1, learning_rate= 0.1, max_depth=8, min_child_weight= 4, subsample= 0.7,reg_alpha=0.01,reg_lambda= 0.001)\n",
    "print('xgb2 (preprocessing:pca):')\n",
    "clf_performance(xtrain_pca,Ytrain,xgb2_opt_pca)"
   ]
  },
  {
   "cell_type": "markdown",
   "metadata": {},
   "source": [
    "### Question No. 5 [5 Marks]\n",
    "Develop an optimal pipeline for classification based on your analysis (Q1-Q4). You are free to use any tools at your disposal. However, no external data sources may be used. Describe your pipeline and report your results over the test data set. (You are required to submit your prediction file together with the assignment in a zip folder). Your prediction file should be a single column file containing the prediction score of the corresponding example in Xtest (be sure to have the same order!). Your prediction file should be named by your student ID, e.g., u100011.csv."
   ]
  },
  {
   "cell_type": "markdown",
   "metadata": {},
   "source": [
    "#### Answer :\n",
    "* Base on the above results of AUC-ROC , I chose top three models (Kernel SVM ,KNN,XGBClassifier)to predict Xtest,and the scores got from leaderboard are show in table:\n",
    "\n",
    "|classifier|score|\n",
    "|:-------|------:|\n",
    "|Kernel SVM|0.8269|\n",
    "|KNN|0.8017|\n",
    "|XGBClassifier|0.8013|\n",
    "\n",
    "* So, the best classifier for this data set is SVC( kernel= 'rbf',class_weight='balanced',gamma = 7) with the preprocessing of Normalizer."
   ]
  },
  {
   "cell_type": "code",
   "execution_count": 98,
   "metadata": {},
   "outputs": [],
   "source": [
    "from sklearn.pipeline import Pipeline\n",
    "import csv"
   ]
  },
  {
   "cell_type": "code",
   "execution_count": 99,
   "metadata": {},
   "outputs": [],
   "source": [
    "# 1 XGBClassifier\n",
    "#pipe_clf = Pipeline([\n",
    "#                     ('pca', PCA(n_components=112)),\n",
    "#                     ('clf',XGBClassifier( colsample_bytree= 0.8, gamma= 1, learning_rate= 0.1, max_depth=8, min_child_weight= 4, subsample= 0.7,reg_alpha=0.01,reg_lambda= 0.001))\n",
    "#                     ])\n",
    "# pipe_clf.fit(Xtrain, Ytrain) \n",
    "# Ytest = pipe_clf.predict(Xtest)\n"
   ]
  },
  {
   "cell_type": "code",
   "execution_count": 110,
   "metadata": {},
   "outputs": [],
   "source": [
    "# 2 Kernel SVM \n",
    "pipe_clf = Pipeline([\n",
    "                    ('pre', preprocessing.Normalizer()),\n",
    "                    ('clf',SVC( kernel= 'rbf',class_weight='balanced',gamma = 7))\n",
    "                    ])\n",
    "pipe_clf.fit(Xtrain, Ytrain) \n",
    "Ytest = pipe_clf.predict(Xtest)"
   ]
  },
  {
   "cell_type": "code",
   "execution_count": 113,
   "metadata": {},
   "outputs": [],
   "source": [
    "# 3 KNN\n",
    "# pipe_clf = Pipeline([\n",
    "#                     ('pre', preprocessing.Normalizer()),\n",
    "#                     ('clf',KNeighborsClassifier(n_neighbors=12,weights = 'distance',p=1))\n",
    "#                     ])\n",
    "# pipe_clf.fit(Xtrain, Ytrain) \n",
    "# Ytest = pipe_clf.predict(Xtest)"
   ]
  },
  {
   "cell_type": "code",
   "execution_count": 115,
   "metadata": {},
   "outputs": [],
   "source": [
    "with open('u1852866.csv','w')as f :\n",
    "    for i in range(len(Ytest)):\n",
    "        f.writelines(str(Ytest[i])+'\\n')"
   ]
  },
  {
   "cell_type": "code",
   "execution_count": null,
   "metadata": {},
   "outputs": [],
   "source": []
  }
 ],
 "metadata": {
  "kernelspec": {
   "display_name": "Python 3",
   "language": "python",
   "name": "python3"
  },
  "language_info": {
   "codemirror_mode": {
    "name": "ipython",
    "version": 3
   },
   "file_extension": ".py",
   "mimetype": "text/x-python",
   "name": "python",
   "nbconvert_exporter": "python",
   "pygments_lexer": "ipython3",
   "version": "3.7.3"
  }
 },
 "nbformat": 4,
 "nbformat_minor": 2
}
